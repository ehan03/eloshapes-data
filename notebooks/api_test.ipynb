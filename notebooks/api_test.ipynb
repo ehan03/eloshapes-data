{
 "cells": [
  {
   "cell_type": "code",
   "execution_count": 2,
   "id": "f7c23de8",
   "metadata": {},
   "outputs": [],
   "source": [
    "import os\n",
    "\n",
    "import requests\n",
    "from dotenv import load_dotenv\n",
    "\n",
    "load_dotenv()\n",
    "\n",
    "API_KEY = os.getenv(\"API_KEY\")"
   ]
  },
  {
   "cell_type": "code",
   "execution_count": 5,
   "id": "2eb9aae8",
   "metadata": {},
   "outputs": [],
   "source": [
    "url = \"https://qyjffrmfirkwcwempawu.supabase.co/rest/v1/products_available_v2?select=general__id%2Cgeneral__handle%2Cgeneral__brand_handles%2Cgeneral__brand_names%2Cgeneral__brands_separator%2Cgeneral__model%2Cgeneral__variant%2Cgeneral__affiliate_links%2Cmouse__length%2Cmouse__width%2Cmouse__height%2Cmouse__shape%2Cmouse__hump_placement%2Cmouse__front_flare%2Cmouse__side_curvature%2Cmouse__hand_compatibility%2Cmouse__thumb_rest%2Cmouse__ring_finger_rest%2Cmouse__wireless%2Cmouse__weight%2Cmouse__dpi%2Cmouse__polling_rate%2Cmouse__side_buttons%2Cmouse__middle_buttons%2Cmouse__top_view%2Cmouse__side_view%2Cmouse__material_handle_general%2Cmouse__material_handle_specific%2Cmouse__material_name_general%2Cmouse__material_name_specific%2Cmouse__sensor_id%2Cmouse__sensor_parent_id%2Cmouse__sensor_handle%2Cmouse__sensor_brand_names%2Cmouse__sensor_brands_separator%2Cmouse__sensor_model%2Cmouse__sensor_variant%2Cmouse__sensor_rank%2Cmouse__sensor_type%2Cmouse__sensor_tracking_speed%2Cmouse__sensor_acceleration%2Cmouse__adjustable_sensor_position%2Cmouse__sensor_position_x%2Cmouse__sensor_position_x2%2Cmouse__sensor_position_y%2Cmouse__sensor_position_y2&general__category=eq.mouse&order=general__status_edited_date.desc\"\n",
    "\n",
    "headers = {\n",
    "    \"Apikey\": API_KEY,\n",
    "}\n",
    "\n",
    "response = requests.get(url, headers=headers)\n",
    "temp = response.json()"
   ]
  },
  {
   "cell_type": "code",
   "execution_count": 7,
   "id": "fdc6f308",
   "metadata": {},
   "outputs": [
    {
     "data": {
      "text/plain": [
       "{'general__id': 960,\n",
       " 'general__handle': 'hyperx-pulsefire-saga-pro',\n",
       " 'general__brand_handles': ['hyperx'],\n",
       " 'general__brand_names': ['HyperX'],\n",
       " 'general__brands_separator': None,\n",
       " 'general__model': ' Pulsefire Saga Pro',\n",
       " 'general__variant': None,\n",
       " 'general__affiliate_links': None,\n",
       " 'mouse__length': 119.7,\n",
       " 'mouse__width': 39.8,\n",
       " 'mouse__height': 67.2,\n",
       " 'mouse__shape': 'ergonomic',\n",
       " 'mouse__hump_placement': 'back - moderate',\n",
       " 'mouse__front_flare': 'outward - slight',\n",
       " 'mouse__side_curvature': 'inward',\n",
       " 'mouse__hand_compatibility': 'right',\n",
       " 'mouse__thumb_rest': False,\n",
       " 'mouse__ring_finger_rest': False,\n",
       " 'mouse__wireless': True,\n",
       " 'mouse__weight': 72.0,\n",
       " 'mouse__dpi': 26000,\n",
       " 'mouse__polling_rate': 4000,\n",
       " 'mouse__side_buttons': 2,\n",
       " 'mouse__middle_buttons': 0,\n",
       " 'mouse__top_view': '<svg xmlns=\"http://www.w3.org/2000/svg\" viewBox=\"0 0 668.033 1197\"><path d=\"M351.606.05c-9.914.19-16.261 1.654-17.05 4.67-.721 2.757-2.622 3.843-6.727 3.843s-6.006-1.086-6.727-3.844c-2.969-11.352-85.49-.94-139.326 17.58C80.186 57.248 35.034 99.23 24.983 168.089c-8.014 54.898-6.02 188.357 2.815 188.357 2.001 0 3.637.864 3.637 1.922 0 1.057-1.048 1.705-2.33 1.441-1.283-.264-3.22 1.466-4.303 3.844-1.082 2.379-2.953 4.325-4.159 4.325-7.055 0-7.34 4.518-3.769 59.259 1.908 29.247 4.059 68.587 4.783 87.42 1.371 35.687 2.136 38.468 9.992 36.414 2.878-.753 3.63.092 3.63 4.076 0 4.051-.913 5.03-4.692 5.03-7.542 0-7.595.634-8.007 94.141-.433 98.482-.09 94.583-16.243 183.589-34.622 190.774 74.939 333.513 272.076 354.474 10.57 1.124 22.247 2.404 25.947 2.842 113.941 13.493 240.27-50.952 305.249-155.72 61.2-98.675 71.765-188.338 43.571-369.771-16.41-105.6-18.973-137.334-19.103-236.406l.514-111.476c.64-35.262-2.317-112.345-5.567-145.112-7.455-75.158-44.497-113.603-145.918-151.451C443.167 10.383 381.349-.52 351.606.049Z\"/></svg>',\n",
       " 'mouse__side_view': '<svg xmlns=\"http://www.w3.org/2000/svg\" viewBox=\"0 0 1197 398\"><path d=\"M713.222.058c-76.9-.903-164.444 8.808-215.934 25.695-25.532 8.374-34.278 10.31-50.949 11.28-21.98 1.28-73.613 17.176-117.816 35.79l-28.117 12.833a122.257 122.257 0 0 0-38.74-6.336c-49.355.1-93.81 29.863-112.7 75.455l-10.896 4.974c-12.431 5.682-54.697 26.848-70.442 35.41a82193.268 82193.268 0 0 1-37.695 20.464C-1.799 232.843-1.014 232.08.63 244.111c1.052 7.692 1.23 10.407 8.293 12.01 1.154.263 2.346 1.34 2.645 2.485l2.289 8.767c.439 1.679-.629 2.985-2.334 3.298-5.935 1.09-4.69 5.875-.982 19.348 9.16 47.51 34.88 77.375 69.961 105.72 1.553 1.255 4.44 2.261 6.437 2.261h1049.203c2.399 0 5.926-1.13 7.873-2.53 33.439-24.042 39.398-30.843 52.578-73.614a9.186 9.186 0 0 0-.17-5.91l-3.153-8.477c-19.23-51.707-68.405-118.747-126.94-173.056-12.492-11.589-25.006-22.553-27.807-24.36-2.802-1.809-8.178-5.912-11.944-9.117-54.386-46.29-150.237-84.477-241.732-96.31C763.308 1.84 738.855.359 713.222.058z\"/></svg>',\n",
       " 'mouse__material_handle_general': 'plastic',\n",
       " 'mouse__material_handle_specific': 'plastic',\n",
       " 'mouse__material_name_general': 'plastic',\n",
       " 'mouse__material_name_specific': 'plastic',\n",
       " 'mouse__sensor_id': 1036,\n",
       " 'mouse__sensor_parent_id': 976,\n",
       " 'mouse__sensor_handle': 'hyperx-26k',\n",
       " 'mouse__sensor_brand_names': ['HyperX'],\n",
       " 'mouse__sensor_brands_separator': None,\n",
       " 'mouse__sensor_model': '26K',\n",
       " 'mouse__sensor_variant': None,\n",
       " 'mouse__sensor_rank': 1,\n",
       " 'mouse__sensor_type': 'optical',\n",
       " 'mouse__sensor_tracking_speed': 650,\n",
       " 'mouse__sensor_acceleration': 50,\n",
       " 'mouse__adjustable_sensor_position': False,\n",
       " 'mouse__sensor_position_x': 49,\n",
       " 'mouse__sensor_position_x2': None,\n",
       " 'mouse__sensor_position_y': 51,\n",
       " 'mouse__sensor_position_y2': None}"
      ]
     },
     "execution_count": 7,
     "metadata": {},
     "output_type": "execute_result"
    }
   ],
   "source": [
    "temp[0]"
   ]
  }
 ],
 "metadata": {
  "kernelspec": {
   "display_name": "passmark",
   "language": "python",
   "name": "python3"
  },
  "language_info": {
   "codemirror_mode": {
    "name": "ipython",
    "version": 3
   },
   "file_extension": ".py",
   "mimetype": "text/x-python",
   "name": "python",
   "nbconvert_exporter": "python",
   "pygments_lexer": "ipython3",
   "version": "3.13.4"
  }
 },
 "nbformat": 4,
 "nbformat_minor": 5
}
